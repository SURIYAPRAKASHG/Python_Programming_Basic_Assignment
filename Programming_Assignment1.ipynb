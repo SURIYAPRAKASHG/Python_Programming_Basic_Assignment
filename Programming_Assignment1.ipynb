{
 "cells": [
  {
   "cell_type": "markdown",
   "id": "c3c486fd",
   "metadata": {},
   "source": [
    "1.Write a Python program to print \"Hello Python\"?"
   ]
  },
  {
   "cell_type": "code",
   "execution_count": 1,
   "id": "69819360",
   "metadata": {},
   "outputs": [
    {
     "name": "stdout",
     "output_type": "stream",
     "text": [
      "Hello Python\n"
     ]
    }
   ],
   "source": [
    "print(\"Hello Python\")"
   ]
  },
  {
   "cell_type": "markdown",
   "id": "87de22a4",
   "metadata": {},
   "source": [
    "2.Write a Python program to do arithmetical operations addition and division.?"
   ]
  },
  {
   "cell_type": "code",
   "execution_count": 4,
   "id": "dc310a5c",
   "metadata": {},
   "outputs": [
    {
     "name": "stdout",
     "output_type": "stream",
     "text": [
      "30\n",
      "4.0\n"
     ]
    }
   ],
   "source": [
    "print(10 +20)\n",
    "print(20/5)"
   ]
  },
  {
   "cell_type": "markdown",
   "id": "9a19e88f",
   "metadata": {},
   "source": [
    "3.Write a Python program to find the area of a triangle?"
   ]
  },
  {
   "cell_type": "code",
   "execution_count": 6,
   "id": "45268a3c",
   "metadata": {},
   "outputs": [
    {
     "name": "stdout",
     "output_type": "stream",
     "text": [
      "Enter height of the triangle: 20\n",
      "Enter base of the triangle: 5\n",
      "Area of triangle =  50.0\n"
     ]
    }
   ],
   "source": [
    "h = float(input(\"Enter height of the triangle: \"))\n",
    "b = float(input(\"Enter base of the triangle: \"))\n",
    "area = 0.5 * b * h\n",
    "print(\"Area of triangle = \", area)"
   ]
  },
  {
   "cell_type": "markdown",
   "id": "14225cca",
   "metadata": {},
   "source": [
    "4.Write a Python program to swap two variables?"
   ]
  },
  {
   "cell_type": "code",
   "execution_count": 8,
   "id": "8749df29",
   "metadata": {},
   "outputs": [
    {
     "name": "stdout",
     "output_type": "stream",
     "text": [
      "value of x and y before swap: 10 20\n",
      "value of x and y after swap: 20 10\n"
     ]
    }
   ],
   "source": [
    "x=10\n",
    "y=20\n",
    "print('value of x and y before swap:',x,y)\n",
    "temp = x\n",
    "x=y\n",
    "y=temp\n",
    "print('value of x and y after swap:',x,y)"
   ]
  },
  {
   "cell_type": "markdown",
   "id": "2eabde36",
   "metadata": {},
   "source": [
    "5.Write a Python program to generate a random number"
   ]
  },
  {
   "cell_type": "code",
   "execution_count": 12,
   "id": "4f5eb1d9",
   "metadata": {},
   "outputs": [
    {
     "data": {
      "text/plain": [
       "50"
      ]
     },
     "execution_count": 12,
     "metadata": {},
     "output_type": "execute_result"
    }
   ],
   "source": [
    "import random\n",
    "random.randint(10,100)"
   ]
  }
 ],
 "metadata": {
  "kernelspec": {
   "display_name": "Python 3",
   "language": "python",
   "name": "python3"
  },
  "language_info": {
   "codemirror_mode": {
    "name": "ipython",
    "version": 3
   },
   "file_extension": ".py",
   "mimetype": "text/x-python",
   "name": "python",
   "nbconvert_exporter": "python",
   "pygments_lexer": "ipython3",
   "version": "3.8.8"
  }
 },
 "nbformat": 4,
 "nbformat_minor": 5
}
