{
 "cells": [
  {
   "cell_type": "markdown",
   "id": "df04996d",
   "metadata": {},
   "source": [
    "1.Write a Python program to convert kilometers to miles?"
   ]
  },
  {
   "cell_type": "code",
   "execution_count": 7,
   "id": "a6ccf6ab",
   "metadata": {},
   "outputs": [
    {
     "name": "stdout",
     "output_type": "stream",
     "text": [
      "enter the kilometers to covert into miles10\n",
      "miles for  10.0 kilometer is: 6.21371\n"
     ]
    }
   ],
   "source": [
    "km = float(input('enter the kilometers to covert into miles '))\n",
    "miles = float(km) * 0.621371\n",
    "print('miles for ',km ,'kilometer is:',miles)"
   ]
  },
  {
   "cell_type": "markdown",
   "id": "b757aaca",
   "metadata": {},
   "source": [
    "2.Write a Python program to convert Celsius to Fahrenheit?"
   ]
  },
  {
   "cell_type": "code",
   "execution_count": 12,
   "id": "2f707747",
   "metadata": {},
   "outputs": [
    {
     "name": "stdout",
     "output_type": "stream",
     "text": [
      "enter the celsius value to convert into Fahrenheit 25\n",
      "Fahrenheit of  25.0 celsius is: 77.0\n"
     ]
    }
   ],
   "source": [
    "celsius = float(input('enter the celsius value to convert into Fahrenheit '))\n",
    "Fahrenheit = celsius * (9/5) + 32\n",
    "print('Fahrenheit of ',celsius,'celsius is:',Fahrenheit)"
   ]
  },
  {
   "cell_type": "markdown",
   "id": "7246b4ae",
   "metadata": {},
   "source": [
    "3.Write a Python program to display calendar?"
   ]
  },
  {
   "cell_type": "code",
   "execution_count": 19,
   "id": "0fee0085",
   "metadata": {},
   "outputs": [
    {
     "name": "stdout",
     "output_type": "stream",
     "text": [
      "      May 2021\n",
      "Mo Tu We Th Fr Sa Su\n",
      "                1  2\n",
      " 3  4  5  6  7  8  9\n",
      "10 11 12 13 14 15 16\n",
      "17 18 19 20 21 22 23\n",
      "24 25 26 27 28 29 30\n",
      "31\n",
      "\n"
     ]
    }
   ],
   "source": [
    "import calendar\n",
    "print(calendar.month(2021,5))"
   ]
  },
  {
   "cell_type": "markdown",
   "id": "e77d23bb",
   "metadata": {},
   "source": [
    "4.Write a Python program to solve quadratic equation?"
   ]
  },
  {
   "cell_type": "code",
   "execution_count": 21,
   "id": "a68622da",
   "metadata": {},
   "outputs": [
    {
     "name": "stdout",
     "output_type": "stream",
     "text": [
      "enter the value of a : 10\n",
      "enter the value of b : 20\n",
      "enter the value of c : 30\n",
      "10 20 30\n",
      "The roots are\n",
      "(-1-1.4142135623730951j)\n",
      "(-1+1.4142135623730951j)\n"
     ]
    }
   ],
   "source": [
    "import cmath\n",
    "  \n",
    "a =int(input('enter the value of a : '))\n",
    "b =int(input('enter the value of b : '))\n",
    "c =int(input('enter the value of c : '))\n",
    "\n",
    "dis = (b**2) - (4 * a*c)\n",
    "  \n",
    "ans1 = (-b-cmath.sqrt(dis))/(2 * a)\n",
    "ans2 = (-b + cmath.sqrt(dis))/(2 * a)\n",
    "  \n",
    "print('The roots are')\n",
    "print(ans1)\n",
    "print(ans2)"
   ]
  },
  {
   "cell_type": "markdown",
   "id": "c0d19b38",
   "metadata": {},
   "source": [
    "5.Write a Python program to swap two variables without temp variable?"
   ]
  },
  {
   "cell_type": "code",
   "execution_count": 22,
   "id": "097c0a85",
   "metadata": {},
   "outputs": [
    {
     "name": "stdout",
     "output_type": "stream",
     "text": [
      "enter the value of a: 40\n",
      "enter the value of b : 50\n",
      " value of a and b before swap:  40 50\n",
      "value of a and b after swap:  50 40\n"
     ]
    }
   ],
   "source": [
    "a = int(input('enter the value of a: '))\n",
    "b =int(input('enter the value of b : '))\n",
    "\n",
    "print('value of a and b before swap: ',a,b)\n",
    "\n",
    "a = a + b\n",
    "b = a - b\n",
    "a = a - b\n",
    "\n",
    "print( 'value of a and b after swap: ',a,b) "
   ]
  },
  {
   "cell_type": "code",
   "execution_count": null,
   "id": "c73a7d7d",
   "metadata": {},
   "outputs": [],
   "source": []
  }
 ],
 "metadata": {
  "kernelspec": {
   "display_name": "Python 3",
   "language": "python",
   "name": "python3"
  },
  "language_info": {
   "codemirror_mode": {
    "name": "ipython",
    "version": 3
   },
   "file_extension": ".py",
   "mimetype": "text/x-python",
   "name": "python",
   "nbconvert_exporter": "python",
   "pygments_lexer": "ipython3",
   "version": "3.8.8"
  }
 },
 "nbformat": 4,
 "nbformat_minor": 5
}
